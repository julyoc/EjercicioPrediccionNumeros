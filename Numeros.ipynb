{
    "cells": [
        {
            "cell_type": "markdown",
            "source": [
                "# Deteccion de numeros a partir de un grupo de pixeles de dimencion 20x30 \r\n",
                "\r\n",
                "### Importacion de las librerias"
            ],
            "metadata": {}
        },
        {
            "cell_type": "code",
            "execution_count": null,
            "source": [
                "from sklearn.neural_network import MLPClassifier\r\n",
                "import pandas as pandas\r\n",
                "import numpy as np\r\n",
                "import graficar as graf\r\n",
                "import GenerateResData as gen"
            ],
            "outputs": [],
            "metadata": {}
        },
        {
            "cell_type": "markdown",
            "source": [
                "### Se lee el archivo exel \r\n",
                " - Se declara un arreglo vacio `data` donde se guardan los data frame de cada libro de exel.\r\n",
                " - Se declara el arreglo `libros` donde se guardan los nombres de todos los libros del archivo exel."
            ],
            "metadata": {}
        },
        {
            "cell_type": "code",
            "execution_count": null,
            "source": [
                "data = []\r\n",
                "libros = [\"Grupo1\", \"Grupo2\", \"Grupo3\", \"Grupo4\", \"Grupo5\"]"
            ],
            "outputs": [],
            "metadata": {}
        },
        {
            "cell_type": "markdown",
            "source": [
                "### Organizacion de datos\r\n",
                " - Se declara la lista `resdata`, donde se guardan todos los datos divididos por columnas.\r\n",
                " - Se declara la lista `alldata`, apartir de resdata se divide a todos los datos en filas."
            ],
            "metadata": {}
        },
        {
            "cell_type": "code",
            "execution_count": null,
            "source": [
                "resdata = []\r\n",
                "alldata = []"
            ],
            "outputs": [],
            "metadata": {}
        },
        {
            "cell_type": "markdown",
            "source": [
                "### Se guardan los datos en `resdata`"
            ],
            "metadata": {}
        },
        {
            "cell_type": "code",
            "execution_count": null,
            "source": [
                "for g in libros:\r\n",
                "    i = 0\r\n",
                "    dt = pandas.read_excel('datasetNumeros.xls', g, header=None)\r\n",
                "    dt.replace(np.nan, 0.0, inplace=True)\r\n",
                "    dt.replace(-1, 0.0, inplace=True)\r\n",
                "    while i <= 209:\r\n",
                "        resdata.append(dt.loc[:, i:i+19])\r\n",
                "        i=i+21"
            ],
            "outputs": [],
            "metadata": {}
        },
        {
            "cell_type": "markdown",
            "source": [
                "### Se guardan los datos en alldata"
            ],
            "metadata": {}
        },
        {
            "cell_type": "code",
            "execution_count": null,
            "source": [
                "for i, value in enumerate(resdata):\r\n",
                "    j = 0\r\n",
                "    while j <= 309:\r\n",
                "        temdt = value.loc[j:j+29, :]\r\n",
                "        alldata.append(np.reshape(temdt.values, [600]))\r\n",
                "        j += 31\r\n",
                "del resdata\r\n",
                "del data"
            ],
            "outputs": [],
            "metadata": {}
        },
        {
            "cell_type": "markdown",
            "source": [
                "### Graficar los datos\r\n",
                " - Se grafica el dato que decee ingrese el indice del dato `0<=index<=500`, (`graficar(), graficar(data)`).\r\n",
                "\r\n",
                " - SSe grafica los valores de 100 en 100 datos `0<=index<=5`, (`graficarGrupo100()`)."
            ],
            "metadata": {}
        },
        {
            "cell_type": "code",
            "execution_count": null,
            "source": [
                "graf.graficarGrupo100(alldata)"
            ],
            "outputs": [],
            "metadata": {}
        },
        {
            "cell_type": "markdown",
            "source": [
                "### Creamos los valores `Y` de entrenamiento"
            ],
            "metadata": {}
        },
        {
            "cell_type": "code",
            "execution_count": null,
            "source": [
                "alldataY = gen.generateYData()"
            ],
            "outputs": [],
            "metadata": {}
        },
        {
            "cell_type": "markdown",
            "source": [
                "### Se crea una red `MLPClassifier` y se la entrena"
            ],
            "metadata": {}
        },
        {
            "cell_type": "code",
            "execution_count": null,
            "source": [
                "capas = [500, 400, 300, 200, 100, 50]\r\n",
                "model = MLPClassifier(hidden_layer_sizes=capas, max_iter=1000000)"
            ],
            "outputs": [],
            "metadata": {}
        },
        {
            "cell_type": "code",
            "execution_count": null,
            "source": [
                "model.fit(np.array(alldata), np.array(alldataY))"
            ],
            "outputs": [],
            "metadata": {}
        },
        {
            "cell_type": "markdown",
            "source": [
                "### Se predice y se grafica el numero ingresado y se define un titulo con la prediccion."
            ],
            "metadata": {}
        },
        {
            "cell_type": "code",
            "execution_count": null,
            "source": [
                "#model.predict([alldata[100]])\r\n",
                "#model.predict_proba([alldata[100]])\r\n",
                "gen.predictGrafData(alldata[100], model.predict([alldata[100]])[0].tolist())"
            ],
            "outputs": [],
            "metadata": {}
        }
    ],
    "metadata": {
        "orig_nbformat": 4,
        "language_info": {
            "name": "python",
            "version": "3.6.13",
            "mimetype": "text/x-python",
            "codemirror_mode": {
                "name": "ipython",
                "version": 3
            },
            "pygments_lexer": "ipython3",
            "nbconvert_exporter": "python",
            "file_extension": ".py"
        },
        "kernelspec": {
            "name": "python3",
            "display_name": "Python 3.6.13 64-bit ('python36': conda)"
        },
        "interpreter": {
            "hash": "bfae84424c704a40a2bdc68ee5b783b3b562b095aa9c207b55c18dee560e6058"
        }
    },
    "nbformat": 4,
    "nbformat_minor": 2
}